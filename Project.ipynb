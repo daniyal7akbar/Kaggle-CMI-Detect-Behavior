{
 "cells": [
  {
   "cell_type": "code",
   "execution_count": 5,
   "id": "cf9174a1-0092-453e-99c5-78a39ff28f5c",
   "metadata": {},
   "outputs": [
    {
     "name": "stderr",
     "output_type": "stream",
     "text": [
      "2025-07-03 21:11:24.101503: I tensorflow/core/util/port.cc:153] oneDNN custom operations are on. You may see slightly different numerical results due to floating-point round-off errors from different computation orders. To turn them off, set the environment variable `TF_ENABLE_ONEDNN_OPTS=0`.\n",
      "2025-07-03 21:11:24.110628: E external/local_xla/xla/stream_executor/cuda/cuda_fft.cc:467] Unable to register cuFFT factory: Attempting to register factory for plugin cuFFT when one has already been registered\n",
      "WARNING: All log messages before absl::InitializeLog() is called are written to STDERR\n",
      "E0000 00:00:1751559084.121766   11326 cuda_dnn.cc:8579] Unable to register cuDNN factory: Attempting to register factory for plugin cuDNN when one has already been registered\n",
      "E0000 00:00:1751559084.125188   11326 cuda_blas.cc:1407] Unable to register cuBLAS factory: Attempting to register factory for plugin cuBLAS when one has already been registered\n",
      "W0000 00:00:1751559084.133479   11326 computation_placer.cc:177] computation placer already registered. Please check linkage and avoid linking the same target more than once.\n",
      "W0000 00:00:1751559084.133489   11326 computation_placer.cc:177] computation placer already registered. Please check linkage and avoid linking the same target more than once.\n",
      "W0000 00:00:1751559084.133491   11326 computation_placer.cc:177] computation placer already registered. Please check linkage and avoid linking the same target more than once.\n",
      "W0000 00:00:1751559084.133492   11326 computation_placer.cc:177] computation placer already registered. Please check linkage and avoid linking the same target more than once.\n",
      "2025-07-03 21:11:24.136430: I tensorflow/core/platform/cpu_feature_guard.cc:210] This TensorFlow binary is optimized to use available CPU instructions in performance-critical operations.\n",
      "To enable the following instructions: AVX2 AVX512F AVX512_VNNI FMA, in other operations, rebuild TensorFlow with the appropriate compiler flags.\n"
     ]
    }
   ],
   "source": [
    "import numpy as np\n",
    "import pandas as pd\n",
    "from tqdm import tqdm\n",
    "import tensorflow as tf\n",
    "from sklearn.preprocessing import LabelEncoder, StandardScaler\n",
    "from sklearn.model_selection import train_test_split\n",
    "from sklearn.metrics import accuracy_score, f1_score\n",
    "\n",
    "from tensorflow.keras.models import Model\n",
    "from tensorflow.keras.layers import (\n",
    "    Input, Conv1D, Conv2D, MaxPooling1D, MaxPooling2D,\n",
    "    Flatten, Dense, Dropout, TimeDistributed, GlobalMaxPooling1D,\n",
    "    GlobalMaxPooling2D, concatenate, BatchNormalization\n",
    ")\n",
    "from tensorflow.keras.optimizers import Adam\n",
    "\n",
    "# For reproducibility\n",
    "SEED = 42\n",
    "np.random.seed(SEED)\n",
    "tf.random.set_seed(SEED)\n"
   ]
  },
  {
   "cell_type": "code",
   "execution_count": 6,
   "id": "885fbefe-d53f-407b-adfe-228f0f170fb3",
   "metadata": {},
   "outputs": [
    {
     "name": "stderr",
     "output_type": "stream",
     "text": [
      "/tmp/ipykernel_11326/2794628036.py:6: FutureWarning: DataFrame.fillna with 'method' is deprecated and will raise in a future version. Use obj.ffill() or obj.bfill() instead.\n",
      "  df.fillna(method='ffill', inplace=True)\n",
      "/tmp/ipykernel_11326/2794628036.py:7: FutureWarning: DataFrame.fillna with 'method' is deprecated and will raise in a future version. Use obj.ffill() or obj.bfill() instead.\n",
      "  df.fillna(method='bfill', inplace=True)\n",
      "100%|███████████████████████████████████████| 8151/8151 [02:41<00:00, 50.45it/s]\n"
     ]
    }
   ],
   "source": [
    "# Load\n",
    "df = pd.read_csv(\"train.csv\")\n",
    "\n",
    "# Replace -1 with NaN and fill\n",
    "df.replace(-1, np.nan, inplace=True)\n",
    "df.fillna(method='ffill', inplace=True)\n",
    "df.fillna(method='bfill', inplace=True)\n",
    "\n",
    "# Config\n",
    "time_steps = 100\n",
    "imu_channels = ['acc_x', 'acc_y', 'acc_z', 'rot_x', 'rot_y', 'rot_z', 'thm_1', 'thm_2', 'thm_3']\n",
    "tof_sensors = [f'tof_{i}_v{v}' for i in range(1, 6) for v in [0, 7, 56, 63]]\n",
    "\n",
    "X_imu, X_tof, y_binary, y_gesture = [], [], [], []\n",
    "\n",
    "# Binary target: Target vs Non-Target\n",
    "binary_map = df.groupby('sequence_id')['sequence_type'].first().map(lambda x: 1 if x == 'Target' else 0)\n",
    "gesture_labels = df[df['sequence_type'] == 'Target'].groupby('sequence_id')['gesture'].first()\n",
    "gesture_encoder = LabelEncoder()\n",
    "gesture_encoded = pd.Series(gesture_encoder.fit_transform(gesture_labels), index=gesture_labels.index)\n",
    "\n",
    "for seq_id in tqdm(df['sequence_id'].unique()):\n",
    "    group = df[df['sequence_id'] == seq_id]\n",
    "\n",
    "    imu_data = group[imu_channels].values\n",
    "    tof_data = group[tof_sensors].values.reshape(-1, 5, 4)\n",
    "\n",
    "    # Pad or truncate\n",
    "    if len(imu_data) >= time_steps:\n",
    "        imu_data = imu_data[:time_steps]\n",
    "        tof_data = tof_data[:time_steps]\n",
    "    else:\n",
    "        pad_len = time_steps - len(imu_data)\n",
    "        imu_data = np.pad(imu_data, ((0, pad_len), (0, 0)), mode='constant')\n",
    "        tof_data = np.pad(tof_data, ((0, pad_len), (0, 0), (0, 0)), mode='constant')\n",
    "\n",
    "    yb = binary_map.get(seq_id, 0)\n",
    "    yg = gesture_encoded.get(seq_id, -1)\n",
    "\n",
    "    X_imu.append(imu_data)\n",
    "    X_tof.append(tof_data[..., np.newaxis])\n",
    "    y_binary.append(yb)\n",
    "    y_gesture.append(yg)\n",
    "\n",
    "# Convert to arrays\n",
    "X_imu = np.array(X_imu)\n",
    "X_tof = np.array(X_tof)\n",
    "y_binary = np.array(y_binary)\n",
    "y_gesture = np.array(y_gesture)\n",
    "\n",
    "# Keep only valid gesture entries\n",
    "mask = y_gesture >= 0\n",
    "X_imu = X_imu[mask]\n",
    "X_tof = X_tof[mask]\n",
    "y_binary = y_binary[mask]\n",
    "y_gesture = y_gesture[mask]\n"
   ]
  },
  {
   "cell_type": "code",
   "execution_count": 9,
   "id": "658a36be-b4a6-4444-930b-1845ece72f90",
   "metadata": {},
   "outputs": [],
   "source": [
    "# Normalize IMU\n",
    "imu_flat = X_imu.reshape(-1, len(imu_channels))\n",
    "scaler_imu = StandardScaler()\n",
    "imu_scaled = scaler_imu.fit_transform(imu_flat).reshape(X_imu.shape)\n",
    "\n",
    "# Normalize TOF\n",
    "tof_flat = X_tof.reshape(-1, 5 * 4)\n",
    "scaler_tof = StandardScaler()\n",
    "tof_scaled = scaler_tof.fit_transform(tof_flat).reshape(X_tof.shape)\n",
    "\n",
    "X_imu = imu_scaled\n",
    "X_tof = tof_scaled\n"
   ]
  },
  {
   "cell_type": "code",
   "execution_count": 10,
   "id": "b2e523c0-a023-474a-a4ea-6fef551aabd9",
   "metadata": {},
   "outputs": [
    {
     "data": {
      "text/html": [
       "<pre style=\"white-space:pre;overflow-x:auto;line-height:normal;font-family:Menlo,'DejaVu Sans Mono',consolas,'Courier New',monospace\"><span style=\"font-weight: bold\">Model: \"functional_1\"</span>\n",
       "</pre>\n"
      ],
      "text/plain": [
       "\u001b[1mModel: \"functional_1\"\u001b[0m\n"
      ]
     },
     "metadata": {},
     "output_type": "display_data"
    },
    {
     "data": {
      "text/html": [
       "<pre style=\"white-space:pre;overflow-x:auto;line-height:normal;font-family:Menlo,'DejaVu Sans Mono',consolas,'Courier New',monospace\">┏━━━━━━━━━━━━━━━━━━━━━┳━━━━━━━━━━━━━━━━━━━┳━━━━━━━━━━━━┳━━━━━━━━━━━━━━━━━━━┓\n",
       "┃<span style=\"font-weight: bold\"> Layer (type)        </span>┃<span style=\"font-weight: bold\"> Output Shape      </span>┃<span style=\"font-weight: bold\">    Param # </span>┃<span style=\"font-weight: bold\"> Connected to      </span>┃\n",
       "┡━━━━━━━━━━━━━━━━━━━━━╇━━━━━━━━━━━━━━━━━━━╇━━━━━━━━━━━━╇━━━━━━━━━━━━━━━━━━━┩\n",
       "│ imu_input           │ (<span style=\"color: #00d7ff; text-decoration-color: #00d7ff\">None</span>, <span style=\"color: #00af00; text-decoration-color: #00af00\">100</span>, <span style=\"color: #00af00; text-decoration-color: #00af00\">9</span>)    │          <span style=\"color: #00af00; text-decoration-color: #00af00\">0</span> │ -                 │\n",
       "│ (<span style=\"color: #0087ff; text-decoration-color: #0087ff\">InputLayer</span>)        │                   │            │                   │\n",
       "├─────────────────────┼───────────────────┼────────────┼───────────────────┤\n",
       "│ conv1d_2 (<span style=\"color: #0087ff; text-decoration-color: #0087ff\">Conv1D</span>)   │ (<span style=\"color: #00d7ff; text-decoration-color: #00d7ff\">None</span>, <span style=\"color: #00af00; text-decoration-color: #00af00\">96</span>, <span style=\"color: #00af00; text-decoration-color: #00af00\">64</span>)    │      <span style=\"color: #00af00; text-decoration-color: #00af00\">2,944</span> │ imu_input[<span style=\"color: #00af00; text-decoration-color: #00af00\">0</span>][<span style=\"color: #00af00; text-decoration-color: #00af00\">0</span>]   │\n",
       "├─────────────────────┼───────────────────┼────────────┼───────────────────┤\n",
       "│ tof_input           │ (<span style=\"color: #00d7ff; text-decoration-color: #00d7ff\">None</span>, <span style=\"color: #00af00; text-decoration-color: #00af00\">100</span>, <span style=\"color: #00af00; text-decoration-color: #00af00\">5</span>, <span style=\"color: #00af00; text-decoration-color: #00af00\">4</span>, │          <span style=\"color: #00af00; text-decoration-color: #00af00\">0</span> │ -                 │\n",
       "│ (<span style=\"color: #0087ff; text-decoration-color: #0087ff\">InputLayer</span>)        │ <span style=\"color: #00af00; text-decoration-color: #00af00\">1</span>)                │            │                   │\n",
       "├─────────────────────┼───────────────────┼────────────┼───────────────────┤\n",
       "│ batch_normalizatio… │ (<span style=\"color: #00d7ff; text-decoration-color: #00d7ff\">None</span>, <span style=\"color: #00af00; text-decoration-color: #00af00\">96</span>, <span style=\"color: #00af00; text-decoration-color: #00af00\">64</span>)    │        <span style=\"color: #00af00; text-decoration-color: #00af00\">256</span> │ conv1d_2[<span style=\"color: #00af00; text-decoration-color: #00af00\">0</span>][<span style=\"color: #00af00; text-decoration-color: #00af00\">0</span>]    │\n",
       "│ (<span style=\"color: #0087ff; text-decoration-color: #0087ff\">BatchNormalizatio…</span> │                   │            │                   │\n",
       "├─────────────────────┼───────────────────┼────────────┼───────────────────┤\n",
       "│ time_distributed_4  │ (<span style=\"color: #00d7ff; text-decoration-color: #00d7ff\">None</span>, <span style=\"color: #00af00; text-decoration-color: #00af00\">100</span>, <span style=\"color: #00af00; text-decoration-color: #00af00\">5</span>, <span style=\"color: #00af00; text-decoration-color: #00af00\">4</span>, │        <span style=\"color: #00af00; text-decoration-color: #00af00\">320</span> │ tof_input[<span style=\"color: #00af00; text-decoration-color: #00af00\">0</span>][<span style=\"color: #00af00; text-decoration-color: #00af00\">0</span>]   │\n",
       "│ (<span style=\"color: #0087ff; text-decoration-color: #0087ff\">TimeDistributed</span>)   │ <span style=\"color: #00af00; text-decoration-color: #00af00\">32</span>)               │            │                   │\n",
       "├─────────────────────┼───────────────────┼────────────┼───────────────────┤\n",
       "│ max_pooling1d_1     │ (<span style=\"color: #00d7ff; text-decoration-color: #00d7ff\">None</span>, <span style=\"color: #00af00; text-decoration-color: #00af00\">48</span>, <span style=\"color: #00af00; text-decoration-color: #00af00\">64</span>)    │          <span style=\"color: #00af00; text-decoration-color: #00af00\">0</span> │ batch_normalizat… │\n",
       "│ (<span style=\"color: #0087ff; text-decoration-color: #0087ff\">MaxPooling1D</span>)      │                   │            │                   │\n",
       "├─────────────────────┼───────────────────┼────────────┼───────────────────┤\n",
       "│ time_distributed_5  │ (<span style=\"color: #00d7ff; text-decoration-color: #00d7ff\">None</span>, <span style=\"color: #00af00; text-decoration-color: #00af00\">100</span>, <span style=\"color: #00af00; text-decoration-color: #00af00\">5</span>, <span style=\"color: #00af00; text-decoration-color: #00af00\">4</span>, │        <span style=\"color: #00af00; text-decoration-color: #00af00\">128</span> │ time_distributed… │\n",
       "│ (<span style=\"color: #0087ff; text-decoration-color: #0087ff\">TimeDistributed</span>)   │ <span style=\"color: #00af00; text-decoration-color: #00af00\">32</span>)               │            │                   │\n",
       "├─────────────────────┼───────────────────┼────────────┼───────────────────┤\n",
       "│ conv1d_3 (<span style=\"color: #0087ff; text-decoration-color: #0087ff\">Conv1D</span>)   │ (<span style=\"color: #00d7ff; text-decoration-color: #00d7ff\">None</span>, <span style=\"color: #00af00; text-decoration-color: #00af00\">46</span>, <span style=\"color: #00af00; text-decoration-color: #00af00\">128</span>)   │     <span style=\"color: #00af00; text-decoration-color: #00af00\">24,704</span> │ max_pooling1d_1[<span style=\"color: #00af00; text-decoration-color: #00af00\">…</span> │\n",
       "├─────────────────────┼───────────────────┼────────────┼───────────────────┤\n",
       "│ time_distributed_6  │ (<span style=\"color: #00d7ff; text-decoration-color: #00d7ff\">None</span>, <span style=\"color: #00af00; text-decoration-color: #00af00\">100</span>, <span style=\"color: #00af00; text-decoration-color: #00af00\">2</span>, <span style=\"color: #00af00; text-decoration-color: #00af00\">2</span>, │          <span style=\"color: #00af00; text-decoration-color: #00af00\">0</span> │ time_distributed… │\n",
       "│ (<span style=\"color: #0087ff; text-decoration-color: #0087ff\">TimeDistributed</span>)   │ <span style=\"color: #00af00; text-decoration-color: #00af00\">32</span>)               │            │                   │\n",
       "├─────────────────────┼───────────────────┼────────────┼───────────────────┤\n",
       "│ batch_normalizatio… │ (<span style=\"color: #00d7ff; text-decoration-color: #00d7ff\">None</span>, <span style=\"color: #00af00; text-decoration-color: #00af00\">46</span>, <span style=\"color: #00af00; text-decoration-color: #00af00\">128</span>)   │        <span style=\"color: #00af00; text-decoration-color: #00af00\">512</span> │ conv1d_3[<span style=\"color: #00af00; text-decoration-color: #00af00\">0</span>][<span style=\"color: #00af00; text-decoration-color: #00af00\">0</span>]    │\n",
       "│ (<span style=\"color: #0087ff; text-decoration-color: #0087ff\">BatchNormalizatio…</span> │                   │            │                   │\n",
       "├─────────────────────┼───────────────────┼────────────┼───────────────────┤\n",
       "│ time_distributed_7  │ (<span style=\"color: #00d7ff; text-decoration-color: #00d7ff\">None</span>, <span style=\"color: #00af00; text-decoration-color: #00af00\">100</span>, <span style=\"color: #00af00; text-decoration-color: #00af00\">128</span>)  │          <span style=\"color: #00af00; text-decoration-color: #00af00\">0</span> │ time_distributed… │\n",
       "│ (<span style=\"color: #0087ff; text-decoration-color: #0087ff\">TimeDistributed</span>)   │                   │            │                   │\n",
       "├─────────────────────┼───────────────────┼────────────┼───────────────────┤\n",
       "│ global_max_pooling… │ (<span style=\"color: #00d7ff; text-decoration-color: #00d7ff\">None</span>, <span style=\"color: #00af00; text-decoration-color: #00af00\">128</span>)       │          <span style=\"color: #00af00; text-decoration-color: #00af00\">0</span> │ batch_normalizat… │\n",
       "│ (<span style=\"color: #0087ff; text-decoration-color: #0087ff\">GlobalMaxPooling1…</span> │                   │            │                   │\n",
       "├─────────────────────┼───────────────────┼────────────┼───────────────────┤\n",
       "│ global_max_pooling… │ (<span style=\"color: #00d7ff; text-decoration-color: #00d7ff\">None</span>, <span style=\"color: #00af00; text-decoration-color: #00af00\">128</span>)       │          <span style=\"color: #00af00; text-decoration-color: #00af00\">0</span> │ time_distributed… │\n",
       "│ (<span style=\"color: #0087ff; text-decoration-color: #0087ff\">GlobalMaxPooling1…</span> │                   │            │                   │\n",
       "├─────────────────────┼───────────────────┼────────────┼───────────────────┤\n",
       "│ concatenate_1       │ (<span style=\"color: #00d7ff; text-decoration-color: #00d7ff\">None</span>, <span style=\"color: #00af00; text-decoration-color: #00af00\">256</span>)       │          <span style=\"color: #00af00; text-decoration-color: #00af00\">0</span> │ global_max_pooli… │\n",
       "│ (<span style=\"color: #0087ff; text-decoration-color: #0087ff\">Concatenate</span>)       │                   │            │ global_max_pooli… │\n",
       "├─────────────────────┼───────────────────┼────────────┼───────────────────┤\n",
       "│ dense_1 (<span style=\"color: #0087ff; text-decoration-color: #0087ff\">Dense</span>)     │ (<span style=\"color: #00d7ff; text-decoration-color: #00d7ff\">None</span>, <span style=\"color: #00af00; text-decoration-color: #00af00\">128</span>)       │     <span style=\"color: #00af00; text-decoration-color: #00af00\">32,896</span> │ concatenate_1[<span style=\"color: #00af00; text-decoration-color: #00af00\">0</span>]… │\n",
       "├─────────────────────┼───────────────────┼────────────┼───────────────────┤\n",
       "│ dropout_1 (<span style=\"color: #0087ff; text-decoration-color: #0087ff\">Dropout</span>) │ (<span style=\"color: #00d7ff; text-decoration-color: #00d7ff\">None</span>, <span style=\"color: #00af00; text-decoration-color: #00af00\">128</span>)       │          <span style=\"color: #00af00; text-decoration-color: #00af00\">0</span> │ dense_1[<span style=\"color: #00af00; text-decoration-color: #00af00\">0</span>][<span style=\"color: #00af00; text-decoration-color: #00af00\">0</span>]     │\n",
       "├─────────────────────┼───────────────────┼────────────┼───────────────────┤\n",
       "│ binary_output       │ (<span style=\"color: #00d7ff; text-decoration-color: #00d7ff\">None</span>, <span style=\"color: #00af00; text-decoration-color: #00af00\">1</span>)         │        <span style=\"color: #00af00; text-decoration-color: #00af00\">129</span> │ dropout_1[<span style=\"color: #00af00; text-decoration-color: #00af00\">0</span>][<span style=\"color: #00af00; text-decoration-color: #00af00\">0</span>]   │\n",
       "│ (<span style=\"color: #0087ff; text-decoration-color: #0087ff\">Dense</span>)             │                   │            │                   │\n",
       "├─────────────────────┼───────────────────┼────────────┼───────────────────┤\n",
       "│ gesture_output      │ (<span style=\"color: #00d7ff; text-decoration-color: #00d7ff\">None</span>, <span style=\"color: #00af00; text-decoration-color: #00af00\">8</span>)         │      <span style=\"color: #00af00; text-decoration-color: #00af00\">1,032</span> │ dropout_1[<span style=\"color: #00af00; text-decoration-color: #00af00\">0</span>][<span style=\"color: #00af00; text-decoration-color: #00af00\">0</span>]   │\n",
       "│ (<span style=\"color: #0087ff; text-decoration-color: #0087ff\">Dense</span>)             │                   │            │                   │\n",
       "└─────────────────────┴───────────────────┴────────────┴───────────────────┘\n",
       "</pre>\n"
      ],
      "text/plain": [
       "┏━━━━━━━━━━━━━━━━━━━━━┳━━━━━━━━━━━━━━━━━━━┳━━━━━━━━━━━━┳━━━━━━━━━━━━━━━━━━━┓\n",
       "┃\u001b[1m \u001b[0m\u001b[1mLayer (type)       \u001b[0m\u001b[1m \u001b[0m┃\u001b[1m \u001b[0m\u001b[1mOutput Shape     \u001b[0m\u001b[1m \u001b[0m┃\u001b[1m \u001b[0m\u001b[1m   Param #\u001b[0m\u001b[1m \u001b[0m┃\u001b[1m \u001b[0m\u001b[1mConnected to     \u001b[0m\u001b[1m \u001b[0m┃\n",
       "┡━━━━━━━━━━━━━━━━━━━━━╇━━━━━━━━━━━━━━━━━━━╇━━━━━━━━━━━━╇━━━━━━━━━━━━━━━━━━━┩\n",
       "│ imu_input           │ (\u001b[38;5;45mNone\u001b[0m, \u001b[38;5;34m100\u001b[0m, \u001b[38;5;34m9\u001b[0m)    │          \u001b[38;5;34m0\u001b[0m │ -                 │\n",
       "│ (\u001b[38;5;33mInputLayer\u001b[0m)        │                   │            │                   │\n",
       "├─────────────────────┼───────────────────┼────────────┼───────────────────┤\n",
       "│ conv1d_2 (\u001b[38;5;33mConv1D\u001b[0m)   │ (\u001b[38;5;45mNone\u001b[0m, \u001b[38;5;34m96\u001b[0m, \u001b[38;5;34m64\u001b[0m)    │      \u001b[38;5;34m2,944\u001b[0m │ imu_input[\u001b[38;5;34m0\u001b[0m][\u001b[38;5;34m0\u001b[0m]   │\n",
       "├─────────────────────┼───────────────────┼────────────┼───────────────────┤\n",
       "│ tof_input           │ (\u001b[38;5;45mNone\u001b[0m, \u001b[38;5;34m100\u001b[0m, \u001b[38;5;34m5\u001b[0m, \u001b[38;5;34m4\u001b[0m, │          \u001b[38;5;34m0\u001b[0m │ -                 │\n",
       "│ (\u001b[38;5;33mInputLayer\u001b[0m)        │ \u001b[38;5;34m1\u001b[0m)                │            │                   │\n",
       "├─────────────────────┼───────────────────┼────────────┼───────────────────┤\n",
       "│ batch_normalizatio… │ (\u001b[38;5;45mNone\u001b[0m, \u001b[38;5;34m96\u001b[0m, \u001b[38;5;34m64\u001b[0m)    │        \u001b[38;5;34m256\u001b[0m │ conv1d_2[\u001b[38;5;34m0\u001b[0m][\u001b[38;5;34m0\u001b[0m]    │\n",
       "│ (\u001b[38;5;33mBatchNormalizatio…\u001b[0m │                   │            │                   │\n",
       "├─────────────────────┼───────────────────┼────────────┼───────────────────┤\n",
       "│ time_distributed_4  │ (\u001b[38;5;45mNone\u001b[0m, \u001b[38;5;34m100\u001b[0m, \u001b[38;5;34m5\u001b[0m, \u001b[38;5;34m4\u001b[0m, │        \u001b[38;5;34m320\u001b[0m │ tof_input[\u001b[38;5;34m0\u001b[0m][\u001b[38;5;34m0\u001b[0m]   │\n",
       "│ (\u001b[38;5;33mTimeDistributed\u001b[0m)   │ \u001b[38;5;34m32\u001b[0m)               │            │                   │\n",
       "├─────────────────────┼───────────────────┼────────────┼───────────────────┤\n",
       "│ max_pooling1d_1     │ (\u001b[38;5;45mNone\u001b[0m, \u001b[38;5;34m48\u001b[0m, \u001b[38;5;34m64\u001b[0m)    │          \u001b[38;5;34m0\u001b[0m │ batch_normalizat… │\n",
       "│ (\u001b[38;5;33mMaxPooling1D\u001b[0m)      │                   │            │                   │\n",
       "├─────────────────────┼───────────────────┼────────────┼───────────────────┤\n",
       "│ time_distributed_5  │ (\u001b[38;5;45mNone\u001b[0m, \u001b[38;5;34m100\u001b[0m, \u001b[38;5;34m5\u001b[0m, \u001b[38;5;34m4\u001b[0m, │        \u001b[38;5;34m128\u001b[0m │ time_distributed… │\n",
       "│ (\u001b[38;5;33mTimeDistributed\u001b[0m)   │ \u001b[38;5;34m32\u001b[0m)               │            │                   │\n",
       "├─────────────────────┼───────────────────┼────────────┼───────────────────┤\n",
       "│ conv1d_3 (\u001b[38;5;33mConv1D\u001b[0m)   │ (\u001b[38;5;45mNone\u001b[0m, \u001b[38;5;34m46\u001b[0m, \u001b[38;5;34m128\u001b[0m)   │     \u001b[38;5;34m24,704\u001b[0m │ max_pooling1d_1[\u001b[38;5;34m…\u001b[0m │\n",
       "├─────────────────────┼───────────────────┼────────────┼───────────────────┤\n",
       "│ time_distributed_6  │ (\u001b[38;5;45mNone\u001b[0m, \u001b[38;5;34m100\u001b[0m, \u001b[38;5;34m2\u001b[0m, \u001b[38;5;34m2\u001b[0m, │          \u001b[38;5;34m0\u001b[0m │ time_distributed… │\n",
       "│ (\u001b[38;5;33mTimeDistributed\u001b[0m)   │ \u001b[38;5;34m32\u001b[0m)               │            │                   │\n",
       "├─────────────────────┼───────────────────┼────────────┼───────────────────┤\n",
       "│ batch_normalizatio… │ (\u001b[38;5;45mNone\u001b[0m, \u001b[38;5;34m46\u001b[0m, \u001b[38;5;34m128\u001b[0m)   │        \u001b[38;5;34m512\u001b[0m │ conv1d_3[\u001b[38;5;34m0\u001b[0m][\u001b[38;5;34m0\u001b[0m]    │\n",
       "│ (\u001b[38;5;33mBatchNormalizatio…\u001b[0m │                   │            │                   │\n",
       "├─────────────────────┼───────────────────┼────────────┼───────────────────┤\n",
       "│ time_distributed_7  │ (\u001b[38;5;45mNone\u001b[0m, \u001b[38;5;34m100\u001b[0m, \u001b[38;5;34m128\u001b[0m)  │          \u001b[38;5;34m0\u001b[0m │ time_distributed… │\n",
       "│ (\u001b[38;5;33mTimeDistributed\u001b[0m)   │                   │            │                   │\n",
       "├─────────────────────┼───────────────────┼────────────┼───────────────────┤\n",
       "│ global_max_pooling… │ (\u001b[38;5;45mNone\u001b[0m, \u001b[38;5;34m128\u001b[0m)       │          \u001b[38;5;34m0\u001b[0m │ batch_normalizat… │\n",
       "│ (\u001b[38;5;33mGlobalMaxPooling1…\u001b[0m │                   │            │                   │\n",
       "├─────────────────────┼───────────────────┼────────────┼───────────────────┤\n",
       "│ global_max_pooling… │ (\u001b[38;5;45mNone\u001b[0m, \u001b[38;5;34m128\u001b[0m)       │          \u001b[38;5;34m0\u001b[0m │ time_distributed… │\n",
       "│ (\u001b[38;5;33mGlobalMaxPooling1…\u001b[0m │                   │            │                   │\n",
       "├─────────────────────┼───────────────────┼────────────┼───────────────────┤\n",
       "│ concatenate_1       │ (\u001b[38;5;45mNone\u001b[0m, \u001b[38;5;34m256\u001b[0m)       │          \u001b[38;5;34m0\u001b[0m │ global_max_pooli… │\n",
       "│ (\u001b[38;5;33mConcatenate\u001b[0m)       │                   │            │ global_max_pooli… │\n",
       "├─────────────────────┼───────────────────┼────────────┼───────────────────┤\n",
       "│ dense_1 (\u001b[38;5;33mDense\u001b[0m)     │ (\u001b[38;5;45mNone\u001b[0m, \u001b[38;5;34m128\u001b[0m)       │     \u001b[38;5;34m32,896\u001b[0m │ concatenate_1[\u001b[38;5;34m0\u001b[0m]… │\n",
       "├─────────────────────┼───────────────────┼────────────┼───────────────────┤\n",
       "│ dropout_1 (\u001b[38;5;33mDropout\u001b[0m) │ (\u001b[38;5;45mNone\u001b[0m, \u001b[38;5;34m128\u001b[0m)       │          \u001b[38;5;34m0\u001b[0m │ dense_1[\u001b[38;5;34m0\u001b[0m][\u001b[38;5;34m0\u001b[0m]     │\n",
       "├─────────────────────┼───────────────────┼────────────┼───────────────────┤\n",
       "│ binary_output       │ (\u001b[38;5;45mNone\u001b[0m, \u001b[38;5;34m1\u001b[0m)         │        \u001b[38;5;34m129\u001b[0m │ dropout_1[\u001b[38;5;34m0\u001b[0m][\u001b[38;5;34m0\u001b[0m]   │\n",
       "│ (\u001b[38;5;33mDense\u001b[0m)             │                   │            │                   │\n",
       "├─────────────────────┼───────────────────┼────────────┼───────────────────┤\n",
       "│ gesture_output      │ (\u001b[38;5;45mNone\u001b[0m, \u001b[38;5;34m8\u001b[0m)         │      \u001b[38;5;34m1,032\u001b[0m │ dropout_1[\u001b[38;5;34m0\u001b[0m][\u001b[38;5;34m0\u001b[0m]   │\n",
       "│ (\u001b[38;5;33mDense\u001b[0m)             │                   │            │                   │\n",
       "└─────────────────────┴───────────────────┴────────────┴───────────────────┘\n"
      ]
     },
     "metadata": {},
     "output_type": "display_data"
    },
    {
     "data": {
      "text/html": [
       "<pre style=\"white-space:pre;overflow-x:auto;line-height:normal;font-family:Menlo,'DejaVu Sans Mono',consolas,'Courier New',monospace\"><span style=\"font-weight: bold\"> Total params: </span><span style=\"color: #00af00; text-decoration-color: #00af00\">62,921</span> (245.79 KB)\n",
       "</pre>\n"
      ],
      "text/plain": [
       "\u001b[1m Total params: \u001b[0m\u001b[38;5;34m62,921\u001b[0m (245.79 KB)\n"
      ]
     },
     "metadata": {},
     "output_type": "display_data"
    },
    {
     "data": {
      "text/html": [
       "<pre style=\"white-space:pre;overflow-x:auto;line-height:normal;font-family:Menlo,'DejaVu Sans Mono',consolas,'Courier New',monospace\"><span style=\"font-weight: bold\"> Trainable params: </span><span style=\"color: #00af00; text-decoration-color: #00af00\">62,473</span> (244.04 KB)\n",
       "</pre>\n"
      ],
      "text/plain": [
       "\u001b[1m Trainable params: \u001b[0m\u001b[38;5;34m62,473\u001b[0m (244.04 KB)\n"
      ]
     },
     "metadata": {},
     "output_type": "display_data"
    },
    {
     "data": {
      "text/html": [
       "<pre style=\"white-space:pre;overflow-x:auto;line-height:normal;font-family:Menlo,'DejaVu Sans Mono',consolas,'Courier New',monospace\"><span style=\"font-weight: bold\"> Non-trainable params: </span><span style=\"color: #00af00; text-decoration-color: #00af00\">448</span> (1.75 KB)\n",
       "</pre>\n"
      ],
      "text/plain": [
       "\u001b[1m Non-trainable params: \u001b[0m\u001b[38;5;34m448\u001b[0m (1.75 KB)\n"
      ]
     },
     "metadata": {},
     "output_type": "display_data"
    }
   ],
   "source": [
    "# IMU Input (1D CNN)\n",
    "imu_input = Input(shape=(time_steps, len(imu_channels)), name=\"imu_input\")\n",
    "x1 = Conv1D(64, 5, activation='relu')(imu_input)\n",
    "x1 = BatchNormalization()(x1)\n",
    "x1 = MaxPooling1D(2)(x1)\n",
    "x1 = Conv1D(128, 3, activation='relu')(x1)\n",
    "x1 = BatchNormalization()(x1)\n",
    "x1 = GlobalMaxPooling1D()(x1)\n",
    "\n",
    "# TOF Input (2D CNN via TimeDistributed)\n",
    "tof_input = Input(shape=(time_steps, 5, 4, 1), name=\"tof_input\")\n",
    "x2 = TimeDistributed(Conv2D(32, (3, 3), activation='relu', padding='same'))(tof_input)\n",
    "x2 = TimeDistributed(BatchNormalization())(x2)\n",
    "x2 = TimeDistributed(MaxPooling2D((2, 2)))(x2)\n",
    "x2 = TimeDistributed(Flatten())(x2)\n",
    "x2 = GlobalMaxPooling1D()(x2)\n",
    "\n",
    "# Merge\n",
    "merged = concatenate([x1, x2])\n",
    "x = Dense(128, activation='relu')(merged)\n",
    "x = Dropout(0.3)(x)\n",
    "\n",
    "# Outputs\n",
    "binary_output = Dense(1, activation='sigmoid', name=\"binary_output\")(x)\n",
    "gesture_output = Dense(len(gesture_encoder.classes_), activation='softmax', name=\"gesture_output\")(x)\n",
    "\n",
    "# Compile\n",
    "model = Model(inputs=[imu_input, tof_input], outputs=[binary_output, gesture_output])\n",
    "optimizer = Adam(learning_rate=1e-4, clipvalue=1.0)\n",
    "model.compile(\n",
    "    optimizer=optimizer,\n",
    "    loss={\n",
    "        'binary_output': 'binary_crossentropy',\n",
    "        'gesture_output': 'sparse_categorical_crossentropy'\n",
    "    },\n",
    "    metrics={\n",
    "        'binary_output': 'accuracy',\n",
    "        'gesture_output': 'accuracy'\n",
    "    }\n",
    ")\n",
    "model.summary()\n"
   ]
  },
  {
   "cell_type": "code",
   "execution_count": 11,
   "id": "5ee0cf84-1488-4f65-9d03-0a8204bf0553",
   "metadata": {},
   "outputs": [
    {
     "name": "stdout",
     "output_type": "stream",
     "text": [
      "Epoch 1/50\n"
     ]
    },
    {
     "name": "stderr",
     "output_type": "stream",
     "text": [
      "WARNING: All log messages before absl::InitializeLog() is called are written to STDERR\n",
      "I0000 00:00:1751559285.118742   12006 service.cc:152] XLA service 0x79f9bc006670 initialized for platform CUDA (this does not guarantee that XLA will be used). Devices:\n",
      "I0000 00:00:1751559285.118758   12006 service.cc:160]   StreamExecutor device (0): NVIDIA GeForce GTX 1650, Compute Capability 7.5\n",
      "2025-07-03 21:14:45.775245: I tensorflow/compiler/mlir/tensorflow/utils/dump_mlir_util.cc:269] disabling MLIR crash reproducer, set env var `MLIR_CRASH_REPRODUCER_DIRECTORY` to enable.\n",
      "I0000 00:00:1751559287.977838   12006 cuda_dnn.cc:529] Loaded cuDNN version 90300\n",
      "2025-07-03 21:14:50.531884: I external/local_xla/xla/service/gpu/autotuning/conv_algorithm_picker.cc:549] Omitted potentially buggy algorithm eng14{k25=0} for conv %cudnn-conv-bias-activation.308 = (f32[32,32,5,4]{3,2,1,0}, u8[0]{0}) custom-call(f32[32,1,5,4]{3,2,1,0} %bitcast.71516, f32[32,1,3,3]{3,2,1,0} %bitcast.71523, f32[32]{0} %bitcast.101332), window={size=3x3 pad=1_1x1_1}, dim_labels=bf01_oi01->bf01, custom_call_target=\"__cudnn$convBiasActivationForward\", metadata={op_type=\"Conv2D\" op_name=\"functional_1_1/time_distributed_4_1/convolution\" source_file=\"/home/daniyal/miniconda3/envs/tf_gpu/lib/python3.10/site-packages/tensorflow/python/framework/ops.py\" source_line=1200}, backend_config={\"operation_queue_id\":\"0\",\"wait_on_operation_queues\":[],\"cudnn_conv_backend_config\":{\"conv_result_scale\":1,\"activation_mode\":\"kNone\",\"side_input_scale\":0,\"leakyrelu_alpha\":0},\"force_earliest_schedule\":false}\n",
      "2025-07-03 21:15:41.527199: I external/local_xla/xla/stream_executor/cuda/subprocess_compilation.cc:346] ptxas warning : Registers are spilled to local memory in function 'loop_add_pad_fusion', 2104 bytes spill stores, 1164 bytes spill loads\n",
      "\n",
      "I0000 00:00:1751559342.066864   12006 device_compiler.h:188] Compiled cluster using XLA!  This line is logged at most once for the lifetime of the process.\n"
     ]
    },
    {
     "name": "stdout",
     "output_type": "stream",
     "text": [
      "\u001b[1m127/128\u001b[0m \u001b[32m━━━━━━━━━━━━━━━━━━━\u001b[0m\u001b[37m━\u001b[0m \u001b[1m0s\u001b[0m 161ms/step - binary_output_accuracy: 0.8941 - binary_output_loss: 0.2909 - gesture_output_accuracy: 0.1324 - gesture_output_loss: 4.0294 - loss: 4.3203"
     ]
    },
    {
     "name": "stderr",
     "output_type": "stream",
     "text": [
      "2025-07-03 21:16:07.899444: I external/local_xla/xla/service/gpu/autotuning/conv_algorithm_picker.cc:549] Omitted potentially buggy algorithm eng14{k25=0} for conv %cudnn-conv-bias-activation.308 = (f32[26,32,5,4]{3,2,1,0}, u8[0]{0}) custom-call(f32[26,1,5,4]{3,2,1,0} %bitcast.71516, f32[32,1,3,3]{3,2,1,0} %bitcast.71523, f32[32]{0} %bitcast.101332), window={size=3x3 pad=1_1x1_1}, dim_labels=bf01_oi01->bf01, custom_call_target=\"__cudnn$convBiasActivationForward\", metadata={op_type=\"Conv2D\" op_name=\"functional_1_1/time_distributed_4_1/convolution\" source_file=\"/home/daniyal/miniconda3/envs/tf_gpu/lib/python3.10/site-packages/tensorflow/python/framework/ops.py\" source_line=1200}, backend_config={\"operation_queue_id\":\"0\",\"wait_on_operation_queues\":[],\"cudnn_conv_backend_config\":{\"conv_result_scale\":1,\"activation_mode\":\"kNone\",\"side_input_scale\":0,\"leakyrelu_alpha\":0},\"force_earliest_schedule\":false}\n",
      "2025-07-03 21:16:47.231275: I external/local_xla/xla/stream_executor/cuda/subprocess_compilation.cc:346] ptxas warning : Registers are spilled to local memory in function 'loop_add_pad_fusion', 2120 bytes spill stores, 1172 bytes spill loads\n",
      "\n"
     ]
    },
    {
     "name": "stdout",
     "output_type": "stream",
     "text": [
      "\u001b[1m128/128\u001b[0m \u001b[32m━━━━━━━━━━━━━━━━━━━━\u001b[0m\u001b[37m\u001b[0m \u001b[1m0s\u001b[0m 518ms/step - binary_output_accuracy: 0.8946 - binary_output_loss: 0.2894 - gesture_output_accuracy: 0.1325 - gesture_output_loss: 4.0236 - loss: 4.3131"
     ]
    },
    {
     "name": "stderr",
     "output_type": "stream",
     "text": [
      "2025-07-03 21:16:51.013238: I external/local_xla/xla/service/gpu/autotuning/conv_algorithm_picker.cc:549] Omitted potentially buggy algorithm eng14{k25=0} for conv %cudnn-conv-bias-activation.308 = (f32[32,32,5,4]{3,2,1,0}, u8[0]{0}) custom-call(f32[32,1,5,4]{3,2,1,0} %bitcast.8805, f32[32,1,3,3]{3,2,1,0} %bitcast.8812, f32[32]{0} %bitcast.12161), window={size=3x3 pad=1_1x1_1}, dim_labels=bf01_oi01->bf01, custom_call_target=\"__cudnn$convBiasActivationForward\", metadata={op_type=\"Conv2D\" op_name=\"functional_1_1/time_distributed_4_1/convolution\" source_file=\"/home/daniyal/miniconda3/envs/tf_gpu/lib/python3.10/site-packages/tensorflow/python/framework/ops.py\" source_line=1200}, backend_config={\"operation_queue_id\":\"0\",\"wait_on_operation_queues\":[],\"cudnn_conv_backend_config\":{\"conv_result_scale\":1,\"activation_mode\":\"kRelu\",\"side_input_scale\":0,\"leakyrelu_alpha\":0},\"force_earliest_schedule\":false}\n",
      "2025-07-03 21:16:53.207350: I external/local_xla/xla/service/gpu/autotuning/conv_algorithm_picker.cc:549] Omitted potentially buggy algorithm eng14{k25=0} for conv %cudnn-conv-bias-activation.308 = (f32[31,32,5,4]{3,2,1,0}, u8[0]{0}) custom-call(f32[31,1,5,4]{3,2,1,0} %bitcast.8805, f32[32,1,3,3]{3,2,1,0} %bitcast.8812, f32[32]{0} %bitcast.12161), window={size=3x3 pad=1_1x1_1}, dim_labels=bf01_oi01->bf01, custom_call_target=\"__cudnn$convBiasActivationForward\", metadata={op_type=\"Conv2D\" op_name=\"functional_1_1/time_distributed_4_1/convolution\" source_file=\"/home/daniyal/miniconda3/envs/tf_gpu/lib/python3.10/site-packages/tensorflow/python/framework/ops.py\" source_line=1200}, backend_config={\"operation_queue_id\":\"0\",\"wait_on_operation_queues\":[],\"cudnn_conv_backend_config\":{\"conv_result_scale\":1,\"activation_mode\":\"kRelu\",\"side_input_scale\":0,\"leakyrelu_alpha\":0},\"force_earliest_schedule\":false}\n"
     ]
    },
    {
     "name": "stdout",
     "output_type": "stream",
     "text": [
      "\u001b[1m128/128\u001b[0m \u001b[32m━━━━━━━━━━━━━━━━━━━━\u001b[0m\u001b[37m\u001b[0m \u001b[1m139s\u001b[0m 567ms/step - binary_output_accuracy: 0.8952 - binary_output_loss: 0.2881 - gesture_output_accuracy: 0.1325 - gesture_output_loss: 4.0179 - loss: 4.3060 - val_binary_output_accuracy: 1.0000 - val_binary_output_loss: 0.0890 - val_gesture_output_accuracy: 0.1398 - val_gesture_output_loss: 2.4484 - val_loss: 2.5372\n",
      "Epoch 2/50\n",
      "\u001b[1m128/128\u001b[0m \u001b[32m━━━━━━━━━━━━━━━━━━━━\u001b[0m\u001b[37m\u001b[0m \u001b[1m21s\u001b[0m 163ms/step - binary_output_accuracy: 0.9990 - binary_output_loss: 0.0393 - gesture_output_accuracy: 0.1598 - gesture_output_loss: 2.4629 - loss: 2.5022 - val_binary_output_accuracy: 1.0000 - val_binary_output_loss: 0.0469 - val_gesture_output_accuracy: 0.1535 - val_gesture_output_loss: 2.1533 - val_loss: 2.2002\n",
      "Epoch 3/50\n",
      "\u001b[1m128/128\u001b[0m \u001b[32m━━━━━━━━━━━━━━━━━━━━\u001b[0m\u001b[37m\u001b[0m \u001b[1m21s\u001b[0m 163ms/step - binary_output_accuracy: 0.9997 - binary_output_loss: 0.0400 - gesture_output_accuracy: 0.2083 - gesture_output_loss: 2.1434 - loss: 2.1834 - val_binary_output_accuracy: 1.0000 - val_binary_output_loss: 0.0304 - val_gesture_output_accuracy: 0.1935 - val_gesture_output_loss: 2.0725 - val_loss: 2.1029\n",
      "Epoch 4/50\n",
      "\u001b[1m128/128\u001b[0m \u001b[32m━━━━━━━━━━━━━━━━━━━━\u001b[0m\u001b[37m\u001b[0m \u001b[1m21s\u001b[0m 163ms/step - binary_output_accuracy: 1.0000 - binary_output_loss: 0.0334 - gesture_output_accuracy: 0.2197 - gesture_output_loss: 2.0506 - loss: 2.0840 - val_binary_output_accuracy: 1.0000 - val_binary_output_loss: 0.0246 - val_gesture_output_accuracy: 0.2190 - val_gesture_output_loss: 2.0337 - val_loss: 2.0584\n",
      "Epoch 5/50\n",
      "\u001b[1m128/128\u001b[0m \u001b[32m━━━━━━━━━━━━━━━━━━━━\u001b[0m\u001b[37m\u001b[0m \u001b[1m21s\u001b[0m 163ms/step - binary_output_accuracy: 0.9996 - binary_output_loss: 0.0285 - gesture_output_accuracy: 0.2400 - gesture_output_loss: 1.9950 - loss: 2.0236 - val_binary_output_accuracy: 1.0000 - val_binary_output_loss: 0.0216 - val_gesture_output_accuracy: 0.2248 - val_gesture_output_loss: 2.0054 - val_loss: 2.0271\n",
      "Epoch 6/50\n",
      "\u001b[1m128/128\u001b[0m \u001b[32m━━━━━━━━━━━━━━━━━━━━\u001b[0m\u001b[37m\u001b[0m \u001b[1m21s\u001b[0m 163ms/step - binary_output_accuracy: 1.0000 - binary_output_loss: 0.0261 - gesture_output_accuracy: 0.2575 - gesture_output_loss: 1.9443 - loss: 1.9704 - val_binary_output_accuracy: 1.0000 - val_binary_output_loss: 0.0198 - val_gesture_output_accuracy: 0.2336 - val_gesture_output_loss: 1.9724 - val_loss: 1.9923\n",
      "Epoch 7/50\n",
      "\u001b[1m128/128\u001b[0m \u001b[32m━━━━━━━━━━━━━━━━━━━━\u001b[0m\u001b[37m\u001b[0m \u001b[1m21s\u001b[0m 164ms/step - binary_output_accuracy: 1.0000 - binary_output_loss: 0.0243 - gesture_output_accuracy: 0.2678 - gesture_output_loss: 1.9029 - loss: 1.9272 - val_binary_output_accuracy: 1.0000 - val_binary_output_loss: 0.0143 - val_gesture_output_accuracy: 0.2346 - val_gesture_output_loss: 1.9523 - val_loss: 1.9666\n",
      "Epoch 8/50\n",
      "\u001b[1m128/128\u001b[0m \u001b[32m━━━━━━━━━━━━━━━━━━━━\u001b[0m\u001b[37m\u001b[0m \u001b[1m21s\u001b[0m 163ms/step - binary_output_accuracy: 0.9998 - binary_output_loss: 0.0214 - gesture_output_accuracy: 0.2866 - gesture_output_loss: 1.8874 - loss: 1.9088 - val_binary_output_accuracy: 1.0000 - val_binary_output_loss: 0.0133 - val_gesture_output_accuracy: 0.2473 - val_gesture_output_loss: 1.9271 - val_loss: 1.9405\n",
      "Epoch 9/50\n",
      "\u001b[1m128/128\u001b[0m \u001b[32m━━━━━━━━━━━━━━━━━━━━\u001b[0m\u001b[37m\u001b[0m \u001b[1m21s\u001b[0m 163ms/step - binary_output_accuracy: 1.0000 - binary_output_loss: 0.0178 - gesture_output_accuracy: 0.3020 - gesture_output_loss: 1.8424 - loss: 1.8602 - val_binary_output_accuracy: 1.0000 - val_binary_output_loss: 0.0135 - val_gesture_output_accuracy: 0.2454 - val_gesture_output_loss: 1.9145 - val_loss: 1.9280\n",
      "Epoch 10/50\n",
      "\u001b[1m128/128\u001b[0m \u001b[32m━━━━━━━━━━━━━━━━━━━━\u001b[0m\u001b[37m\u001b[0m \u001b[1m21s\u001b[0m 164ms/step - binary_output_accuracy: 0.9996 - binary_output_loss: 0.0188 - gesture_output_accuracy: 0.2959 - gesture_output_loss: 1.8165 - loss: 1.8353 - val_binary_output_accuracy: 1.0000 - val_binary_output_loss: 0.0109 - val_gesture_output_accuracy: 0.2483 - val_gesture_output_loss: 1.8987 - val_loss: 1.9096\n",
      "Epoch 11/50\n",
      "\u001b[1m128/128\u001b[0m \u001b[32m━━━━━━━━━━━━━━━━━━━━\u001b[0m\u001b[37m\u001b[0m \u001b[1m21s\u001b[0m 164ms/step - binary_output_accuracy: 1.0000 - binary_output_loss: 0.0154 - gesture_output_accuracy: 0.3312 - gesture_output_loss: 1.7807 - loss: 1.7961 - val_binary_output_accuracy: 1.0000 - val_binary_output_loss: 0.0089 - val_gesture_output_accuracy: 0.2620 - val_gesture_output_loss: 1.8847 - val_loss: 1.8937\n",
      "Epoch 12/50\n",
      "\u001b[1m128/128\u001b[0m \u001b[32m━━━━━━━━━━━━━━━━━━━━\u001b[0m\u001b[37m\u001b[0m \u001b[1m21s\u001b[0m 164ms/step - binary_output_accuracy: 1.0000 - binary_output_loss: 0.0137 - gesture_output_accuracy: 0.3328 - gesture_output_loss: 1.7571 - loss: 1.7707 - val_binary_output_accuracy: 1.0000 - val_binary_output_loss: 0.0077 - val_gesture_output_accuracy: 0.2669 - val_gesture_output_loss: 1.8754 - val_loss: 1.8831\n",
      "Epoch 13/50\n",
      "\u001b[1m128/128\u001b[0m \u001b[32m━━━━━━━━━━━━━━━━━━━━\u001b[0m\u001b[37m\u001b[0m \u001b[1m21s\u001b[0m 163ms/step - binary_output_accuracy: 1.0000 - binary_output_loss: 0.0119 - gesture_output_accuracy: 0.3456 - gesture_output_loss: 1.7225 - loss: 1.7344 - val_binary_output_accuracy: 1.0000 - val_binary_output_loss: 0.0081 - val_gesture_output_accuracy: 0.2727 - val_gesture_output_loss: 1.8623 - val_loss: 1.8705\n",
      "Epoch 14/50\n",
      "\u001b[1m128/128\u001b[0m \u001b[32m━━━━━━━━━━━━━━━━━━━━\u001b[0m\u001b[37m\u001b[0m \u001b[1m21s\u001b[0m 164ms/step - binary_output_accuracy: 1.0000 - binary_output_loss: 0.0125 - gesture_output_accuracy: 0.3560 - gesture_output_loss: 1.6958 - loss: 1.7083 - val_binary_output_accuracy: 1.0000 - val_binary_output_loss: 0.0074 - val_gesture_output_accuracy: 0.2669 - val_gesture_output_loss: 1.8584 - val_loss: 1.8658\n",
      "Epoch 15/50\n",
      "\u001b[1m128/128\u001b[0m \u001b[32m━━━━━━━━━━━━━━━━━━━━\u001b[0m\u001b[37m\u001b[0m \u001b[1m21s\u001b[0m 164ms/step - binary_output_accuracy: 1.0000 - binary_output_loss: 0.0106 - gesture_output_accuracy: 0.3646 - gesture_output_loss: 1.6671 - loss: 1.6777 - val_binary_output_accuracy: 1.0000 - val_binary_output_loss: 0.0078 - val_gesture_output_accuracy: 0.2776 - val_gesture_output_loss: 1.8349 - val_loss: 1.8426\n",
      "Epoch 16/50\n",
      "\u001b[1m128/128\u001b[0m \u001b[32m━━━━━━━━━━━━━━━━━━━━\u001b[0m\u001b[37m\u001b[0m \u001b[1m21s\u001b[0m 164ms/step - binary_output_accuracy: 1.0000 - binary_output_loss: 0.0107 - gesture_output_accuracy: 0.3835 - gesture_output_loss: 1.6443 - loss: 1.6550 - val_binary_output_accuracy: 1.0000 - val_binary_output_loss: 0.0051 - val_gesture_output_accuracy: 0.2786 - val_gesture_output_loss: 1.8248 - val_loss: 1.8299\n",
      "Epoch 17/50\n",
      "\u001b[1m128/128\u001b[0m \u001b[32m━━━━━━━━━━━━━━━━━━━━\u001b[0m\u001b[37m\u001b[0m \u001b[1m21s\u001b[0m 163ms/step - binary_output_accuracy: 1.0000 - binary_output_loss: 0.0077 - gesture_output_accuracy: 0.3930 - gesture_output_loss: 1.6097 - loss: 1.6174 - val_binary_output_accuracy: 1.0000 - val_binary_output_loss: 0.0051 - val_gesture_output_accuracy: 0.2884 - val_gesture_output_loss: 1.8124 - val_loss: 1.8175\n",
      "Epoch 18/50\n",
      "\u001b[1m128/128\u001b[0m \u001b[32m━━━━━━━━━━━━━━━━━━━━\u001b[0m\u001b[37m\u001b[0m \u001b[1m21s\u001b[0m 164ms/step - binary_output_accuracy: 1.0000 - binary_output_loss: 0.0083 - gesture_output_accuracy: 0.4044 - gesture_output_loss: 1.5925 - loss: 1.6008 - val_binary_output_accuracy: 1.0000 - val_binary_output_loss: 0.0044 - val_gesture_output_accuracy: 0.2933 - val_gesture_output_loss: 1.8145 - val_loss: 1.8189\n",
      "Epoch 19/50\n",
      "\u001b[1m128/128\u001b[0m \u001b[32m━━━━━━━━━━━━━━━━━━━━\u001b[0m\u001b[37m\u001b[0m \u001b[1m21s\u001b[0m 163ms/step - binary_output_accuracy: 1.0000 - binary_output_loss: 0.0082 - gesture_output_accuracy: 0.4071 - gesture_output_loss: 1.5823 - loss: 1.5904 - val_binary_output_accuracy: 1.0000 - val_binary_output_loss: 0.0047 - val_gesture_output_accuracy: 0.2893 - val_gesture_output_loss: 1.8050 - val_loss: 1.8097\n",
      "Epoch 20/50\n",
      "\u001b[1m128/128\u001b[0m \u001b[32m━━━━━━━━━━━━━━━━━━━━\u001b[0m\u001b[37m\u001b[0m \u001b[1m21s\u001b[0m 164ms/step - binary_output_accuracy: 1.0000 - binary_output_loss: 0.0074 - gesture_output_accuracy: 0.4205 - gesture_output_loss: 1.5507 - loss: 1.5580 - val_binary_output_accuracy: 1.0000 - val_binary_output_loss: 0.0038 - val_gesture_output_accuracy: 0.3011 - val_gesture_output_loss: 1.8005 - val_loss: 1.8043\n",
      "Epoch 21/50\n",
      "\u001b[1m128/128\u001b[0m \u001b[32m━━━━━━━━━━━━━━━━━━━━\u001b[0m\u001b[37m\u001b[0m \u001b[1m21s\u001b[0m 164ms/step - binary_output_accuracy: 1.0000 - binary_output_loss: 0.0057 - gesture_output_accuracy: 0.4358 - gesture_output_loss: 1.5199 - loss: 1.5256 - val_binary_output_accuracy: 1.0000 - val_binary_output_loss: 0.0039 - val_gesture_output_accuracy: 0.3060 - val_gesture_output_loss: 1.7873 - val_loss: 1.7912\n",
      "Epoch 22/50\n",
      "\u001b[1m128/128\u001b[0m \u001b[32m━━━━━━━━━━━━━━━━━━━━\u001b[0m\u001b[37m\u001b[0m \u001b[1m21s\u001b[0m 164ms/step - binary_output_accuracy: 1.0000 - binary_output_loss: 0.0069 - gesture_output_accuracy: 0.4302 - gesture_output_loss: 1.5147 - loss: 1.5216 - val_binary_output_accuracy: 1.0000 - val_binary_output_loss: 0.0034 - val_gesture_output_accuracy: 0.3060 - val_gesture_output_loss: 1.7857 - val_loss: 1.7891\n",
      "Epoch 23/50\n",
      "\u001b[1m128/128\u001b[0m \u001b[32m━━━━━━━━━━━━━━━━━━━━\u001b[0m\u001b[37m\u001b[0m \u001b[1m21s\u001b[0m 164ms/step - binary_output_accuracy: 1.0000 - binary_output_loss: 0.0058 - gesture_output_accuracy: 0.4536 - gesture_output_loss: 1.4707 - loss: 1.4765 - val_binary_output_accuracy: 1.0000 - val_binary_output_loss: 0.0036 - val_gesture_output_accuracy: 0.3118 - val_gesture_output_loss: 1.7839 - val_loss: 1.7875\n",
      "Epoch 24/50\n",
      "\u001b[1m128/128\u001b[0m \u001b[32m━━━━━━━━━━━━━━━━━━━━\u001b[0m\u001b[37m\u001b[0m \u001b[1m21s\u001b[0m 163ms/step - binary_output_accuracy: 1.0000 - binary_output_loss: 0.0059 - gesture_output_accuracy: 0.4360 - gesture_output_loss: 1.4863 - loss: 1.4922 - val_binary_output_accuracy: 1.0000 - val_binary_output_loss: 0.0030 - val_gesture_output_accuracy: 0.3118 - val_gesture_output_loss: 1.7725 - val_loss: 1.7755\n",
      "Epoch 25/50\n",
      "\u001b[1m128/128\u001b[0m \u001b[32m━━━━━━━━━━━━━━━━━━━━\u001b[0m\u001b[37m\u001b[0m \u001b[1m21s\u001b[0m 163ms/step - binary_output_accuracy: 1.0000 - binary_output_loss: 0.0051 - gesture_output_accuracy: 0.4741 - gesture_output_loss: 1.4383 - loss: 1.4434 - val_binary_output_accuracy: 1.0000 - val_binary_output_loss: 0.0027 - val_gesture_output_accuracy: 0.3118 - val_gesture_output_loss: 1.7696 - val_loss: 1.7722\n",
      "Epoch 26/50\n",
      "\u001b[1m128/128\u001b[0m \u001b[32m━━━━━━━━━━━━━━━━━━━━\u001b[0m\u001b[37m\u001b[0m \u001b[1m21s\u001b[0m 164ms/step - binary_output_accuracy: 1.0000 - binary_output_loss: 0.0047 - gesture_output_accuracy: 0.4580 - gesture_output_loss: 1.4306 - loss: 1.4354 - val_binary_output_accuracy: 1.0000 - val_binary_output_loss: 0.0027 - val_gesture_output_accuracy: 0.3236 - val_gesture_output_loss: 1.7615 - val_loss: 1.7642\n",
      "Epoch 27/50\n",
      "\u001b[1m128/128\u001b[0m \u001b[32m━━━━━━━━━━━━━━━━━━━━\u001b[0m\u001b[37m\u001b[0m \u001b[1m21s\u001b[0m 163ms/step - binary_output_accuracy: 1.0000 - binary_output_loss: 0.0048 - gesture_output_accuracy: 0.4616 - gesture_output_loss: 1.4264 - loss: 1.4311 - val_binary_output_accuracy: 1.0000 - val_binary_output_loss: 0.0024 - val_gesture_output_accuracy: 0.3402 - val_gesture_output_loss: 1.7617 - val_loss: 1.7640\n",
      "Epoch 28/50\n",
      "\u001b[1m128/128\u001b[0m \u001b[32m━━━━━━━━━━━━━━━━━━━━\u001b[0m\u001b[37m\u001b[0m \u001b[1m21s\u001b[0m 164ms/step - binary_output_accuracy: 1.0000 - binary_output_loss: 0.0045 - gesture_output_accuracy: 0.4665 - gesture_output_loss: 1.3990 - loss: 1.4035 - val_binary_output_accuracy: 1.0000 - val_binary_output_loss: 0.0026 - val_gesture_output_accuracy: 0.3245 - val_gesture_output_loss: 1.7565 - val_loss: 1.7590\n",
      "Epoch 29/50\n",
      "\u001b[1m128/128\u001b[0m \u001b[32m━━━━━━━━━━━━━━━━━━━━\u001b[0m\u001b[37m\u001b[0m \u001b[1m21s\u001b[0m 164ms/step - binary_output_accuracy: 1.0000 - binary_output_loss: 0.0046 - gesture_output_accuracy: 0.4849 - gesture_output_loss: 1.3759 - loss: 1.3805 - val_binary_output_accuracy: 1.0000 - val_binary_output_loss: 0.0023 - val_gesture_output_accuracy: 0.3314 - val_gesture_output_loss: 1.7383 - val_loss: 1.7405\n",
      "Epoch 30/50\n",
      "\u001b[1m128/128\u001b[0m \u001b[32m━━━━━━━━━━━━━━━━━━━━\u001b[0m\u001b[37m\u001b[0m \u001b[1m21s\u001b[0m 164ms/step - binary_output_accuracy: 1.0000 - binary_output_loss: 0.0036 - gesture_output_accuracy: 0.5062 - gesture_output_loss: 1.3555 - loss: 1.3591 - val_binary_output_accuracy: 1.0000 - val_binary_output_loss: 0.0024 - val_gesture_output_accuracy: 0.3363 - val_gesture_output_loss: 1.7400 - val_loss: 1.7425\n",
      "Epoch 31/50\n",
      "\u001b[1m128/128\u001b[0m \u001b[32m━━━━━━━━━━━━━━━━━━━━\u001b[0m\u001b[37m\u001b[0m \u001b[1m21s\u001b[0m 163ms/step - binary_output_accuracy: 1.0000 - binary_output_loss: 0.0036 - gesture_output_accuracy: 0.5060 - gesture_output_loss: 1.3215 - loss: 1.3252 - val_binary_output_accuracy: 1.0000 - val_binary_output_loss: 0.0020 - val_gesture_output_accuracy: 0.3412 - val_gesture_output_loss: 1.7312 - val_loss: 1.7332\n",
      "Epoch 32/50\n",
      "\u001b[1m128/128\u001b[0m \u001b[32m━━━━━━━━━━━━━━━━━━━━\u001b[0m\u001b[37m\u001b[0m \u001b[1m21s\u001b[0m 164ms/step - binary_output_accuracy: 1.0000 - binary_output_loss: 0.0032 - gesture_output_accuracy: 0.5052 - gesture_output_loss: 1.3190 - loss: 1.3221 - val_binary_output_accuracy: 1.0000 - val_binary_output_loss: 0.0016 - val_gesture_output_accuracy: 0.3343 - val_gesture_output_loss: 1.7415 - val_loss: 1.7431\n",
      "Epoch 33/50\n",
      "\u001b[1m128/128\u001b[0m \u001b[32m━━━━━━━━━━━━━━━━━━━━\u001b[0m\u001b[37m\u001b[0m \u001b[1m21s\u001b[0m 164ms/step - binary_output_accuracy: 1.0000 - binary_output_loss: 0.0033 - gesture_output_accuracy: 0.5120 - gesture_output_loss: 1.2980 - loss: 1.3013 - val_binary_output_accuracy: 1.0000 - val_binary_output_loss: 0.0015 - val_gesture_output_accuracy: 0.3412 - val_gesture_output_loss: 1.7371 - val_loss: 1.7387\n",
      "Epoch 34/50\n",
      "\u001b[1m128/128\u001b[0m \u001b[32m━━━━━━━━━━━━━━━━━━━━\u001b[0m\u001b[37m\u001b[0m \u001b[1m21s\u001b[0m 164ms/step - binary_output_accuracy: 1.0000 - binary_output_loss: 0.0027 - gesture_output_accuracy: 0.5193 - gesture_output_loss: 1.2906 - loss: 1.2933 - val_binary_output_accuracy: 1.0000 - val_binary_output_loss: 0.0013 - val_gesture_output_accuracy: 0.3490 - val_gesture_output_loss: 1.7302 - val_loss: 1.7315\n",
      "Epoch 35/50\n",
      "\u001b[1m128/128\u001b[0m \u001b[32m━━━━━━━━━━━━━━━━━━━━\u001b[0m\u001b[37m\u001b[0m \u001b[1m21s\u001b[0m 164ms/step - binary_output_accuracy: 1.0000 - binary_output_loss: 0.0029 - gesture_output_accuracy: 0.5227 - gesture_output_loss: 1.2641 - loss: 1.2670 - val_binary_output_accuracy: 1.0000 - val_binary_output_loss: 0.0013 - val_gesture_output_accuracy: 0.3529 - val_gesture_output_loss: 1.7256 - val_loss: 1.7269\n",
      "Epoch 36/50\n",
      "\u001b[1m128/128\u001b[0m \u001b[32m━━━━━━━━━━━━━━━━━━━━\u001b[0m\u001b[37m\u001b[0m \u001b[1m21s\u001b[0m 163ms/step - binary_output_accuracy: 1.0000 - binary_output_loss: 0.0024 - gesture_output_accuracy: 0.5253 - gesture_output_loss: 1.2523 - loss: 1.2547 - val_binary_output_accuracy: 1.0000 - val_binary_output_loss: 0.0012 - val_gesture_output_accuracy: 0.3539 - val_gesture_output_loss: 1.7282 - val_loss: 1.7294\n",
      "Epoch 37/50\n",
      "\u001b[1m128/128\u001b[0m \u001b[32m━━━━━━━━━━━━━━━━━━━━\u001b[0m\u001b[37m\u001b[0m \u001b[1m21s\u001b[0m 164ms/step - binary_output_accuracy: 1.0000 - binary_output_loss: 0.0023 - gesture_output_accuracy: 0.5321 - gesture_output_loss: 1.2213 - loss: 1.2236 - val_binary_output_accuracy: 1.0000 - val_binary_output_loss: 9.1716e-04 - val_gesture_output_accuracy: 0.3529 - val_gesture_output_loss: 1.7335 - val_loss: 1.7344\n",
      "Epoch 38/50\n",
      "\u001b[1m128/128\u001b[0m \u001b[32m━━━━━━━━━━━━━━━━━━━━\u001b[0m\u001b[37m\u001b[0m \u001b[1m21s\u001b[0m 163ms/step - binary_output_accuracy: 1.0000 - binary_output_loss: 0.0020 - gesture_output_accuracy: 0.5626 - gesture_output_loss: 1.1988 - loss: 1.2007 - val_binary_output_accuracy: 1.0000 - val_binary_output_loss: 0.0012 - val_gesture_output_accuracy: 0.3578 - val_gesture_output_loss: 1.7194 - val_loss: 1.7206\n",
      "Epoch 39/50\n",
      "\u001b[1m128/128\u001b[0m \u001b[32m━━━━━━━━━━━━━━━━━━━━\u001b[0m\u001b[37m\u001b[0m \u001b[1m21s\u001b[0m 163ms/step - binary_output_accuracy: 1.0000 - binary_output_loss: 0.0023 - gesture_output_accuracy: 0.5573 - gesture_output_loss: 1.1969 - loss: 1.1992 - val_binary_output_accuracy: 1.0000 - val_binary_output_loss: 0.0010 - val_gesture_output_accuracy: 0.3548 - val_gesture_output_loss: 1.7441 - val_loss: 1.7451\n",
      "Epoch 40/50\n",
      "\u001b[1m128/128\u001b[0m \u001b[32m━━━━━━━━━━━━━━━━━━━━\u001b[0m\u001b[37m\u001b[0m \u001b[1m21s\u001b[0m 163ms/step - binary_output_accuracy: 1.0000 - binary_output_loss: 0.0020 - gesture_output_accuracy: 0.5593 - gesture_output_loss: 1.1717 - loss: 1.1736 - val_binary_output_accuracy: 1.0000 - val_binary_output_loss: 9.4467e-04 - val_gesture_output_accuracy: 0.3509 - val_gesture_output_loss: 1.7277 - val_loss: 1.7286\n",
      "Epoch 41/50\n",
      "\u001b[1m128/128\u001b[0m \u001b[32m━━━━━━━━━━━━━━━━━━━━\u001b[0m\u001b[37m\u001b[0m \u001b[1m21s\u001b[0m 163ms/step - binary_output_accuracy: 1.0000 - binary_output_loss: 0.0018 - gesture_output_accuracy: 0.5843 - gesture_output_loss: 1.1535 - loss: 1.1553 - val_binary_output_accuracy: 1.0000 - val_binary_output_loss: 8.4366e-04 - val_gesture_output_accuracy: 0.3480 - val_gesture_output_loss: 1.7411 - val_loss: 1.7420\n",
      "Epoch 42/50\n",
      "\u001b[1m128/128\u001b[0m \u001b[32m━━━━━━━━━━━━━━━━━━━━\u001b[0m\u001b[37m\u001b[0m \u001b[1m21s\u001b[0m 163ms/step - binary_output_accuracy: 1.0000 - binary_output_loss: 0.0018 - gesture_output_accuracy: 0.5732 - gesture_output_loss: 1.1430 - loss: 1.1448 - val_binary_output_accuracy: 1.0000 - val_binary_output_loss: 6.5137e-04 - val_gesture_output_accuracy: 0.3617 - val_gesture_output_loss: 1.7374 - val_loss: 1.7381\n",
      "Epoch 43/50\n",
      "\u001b[1m128/128\u001b[0m \u001b[32m━━━━━━━━━━━━━━━━━━━━\u001b[0m\u001b[37m\u001b[0m \u001b[1m21s\u001b[0m 164ms/step - binary_output_accuracy: 1.0000 - binary_output_loss: 0.0016 - gesture_output_accuracy: 0.5746 - gesture_output_loss: 1.1380 - loss: 1.1396 - val_binary_output_accuracy: 1.0000 - val_binary_output_loss: 7.8966e-04 - val_gesture_output_accuracy: 0.3597 - val_gesture_output_loss: 1.7248 - val_loss: 1.7256\n",
      "Epoch 44/50\n",
      "\u001b[1m128/128\u001b[0m \u001b[32m━━━━━━━━━━━━━━━━━━━━\u001b[0m\u001b[37m\u001b[0m \u001b[1m21s\u001b[0m 164ms/step - binary_output_accuracy: 1.0000 - binary_output_loss: 0.0020 - gesture_output_accuracy: 0.5895 - gesture_output_loss: 1.1060 - loss: 1.1079 - val_binary_output_accuracy: 1.0000 - val_binary_output_loss: 7.3527e-04 - val_gesture_output_accuracy: 0.3578 - val_gesture_output_loss: 1.7334 - val_loss: 1.7342\n",
      "Epoch 45/50\n",
      "\u001b[1m128/128\u001b[0m \u001b[32m━━━━━━━━━━━━━━━━━━━━\u001b[0m\u001b[37m\u001b[0m \u001b[1m21s\u001b[0m 164ms/step - binary_output_accuracy: 1.0000 - binary_output_loss: 0.0017 - gesture_output_accuracy: 0.5891 - gesture_output_loss: 1.0894 - loss: 1.0911 - val_binary_output_accuracy: 1.0000 - val_binary_output_loss: 8.5788e-04 - val_gesture_output_accuracy: 0.3617 - val_gesture_output_loss: 1.7293 - val_loss: 1.7302\n",
      "Epoch 46/50\n",
      "\u001b[1m128/128\u001b[0m \u001b[32m━━━━━━━━━━━━━━━━━━━━\u001b[0m\u001b[37m\u001b[0m \u001b[1m21s\u001b[0m 164ms/step - binary_output_accuracy: 1.0000 - binary_output_loss: 0.0017 - gesture_output_accuracy: 0.6053 - gesture_output_loss: 1.0850 - loss: 1.0866 - val_binary_output_accuracy: 1.0000 - val_binary_output_loss: 5.9544e-04 - val_gesture_output_accuracy: 0.3627 - val_gesture_output_loss: 1.7478 - val_loss: 1.7484\n",
      "Epoch 47/50\n",
      "\u001b[1m128/128\u001b[0m \u001b[32m━━━━━━━━━━━━━━━━━━━━\u001b[0m\u001b[37m\u001b[0m \u001b[1m21s\u001b[0m 164ms/step - binary_output_accuracy: 1.0000 - binary_output_loss: 0.0014 - gesture_output_accuracy: 0.6174 - gesture_output_loss: 1.0623 - loss: 1.0638 - val_binary_output_accuracy: 1.0000 - val_binary_output_loss: 7.4638e-04 - val_gesture_output_accuracy: 0.3587 - val_gesture_output_loss: 1.7439 - val_loss: 1.7447\n",
      "Epoch 48/50\n",
      "\u001b[1m128/128\u001b[0m \u001b[32m━━━━━━━━━━━━━━━━━━━━\u001b[0m\u001b[37m\u001b[0m \u001b[1m21s\u001b[0m 164ms/step - binary_output_accuracy: 1.0000 - binary_output_loss: 0.0012 - gesture_output_accuracy: 0.6110 - gesture_output_loss: 1.0533 - loss: 1.0545 - val_binary_output_accuracy: 1.0000 - val_binary_output_loss: 5.3893e-04 - val_gesture_output_accuracy: 0.3627 - val_gesture_output_loss: 1.7477 - val_loss: 1.7483\n",
      "Epoch 49/50\n",
      "\u001b[1m128/128\u001b[0m \u001b[32m━━━━━━━━━━━━━━━━━━━━\u001b[0m\u001b[37m\u001b[0m \u001b[1m21s\u001b[0m 163ms/step - binary_output_accuracy: 1.0000 - binary_output_loss: 0.0010 - gesture_output_accuracy: 0.6254 - gesture_output_loss: 1.0155 - loss: 1.0165 - val_binary_output_accuracy: 1.0000 - val_binary_output_loss: 4.5342e-04 - val_gesture_output_accuracy: 0.3578 - val_gesture_output_loss: 1.7200 - val_loss: 1.7204\n",
      "Epoch 50/50\n",
      "\u001b[1m128/128\u001b[0m \u001b[32m━━━━━━━━━━━━━━━━━━━━\u001b[0m\u001b[37m\u001b[0m \u001b[1m21s\u001b[0m 163ms/step - binary_output_accuracy: 1.0000 - binary_output_loss: 9.3945e-04 - gesture_output_accuracy: 0.6258 - gesture_output_loss: 1.0079 - loss: 1.0088 - val_binary_output_accuracy: 1.0000 - val_binary_output_loss: 4.4067e-04 - val_gesture_output_accuracy: 0.3627 - val_gesture_output_loss: 1.7318 - val_loss: 1.7323\n"
     ]
    }
   ],
   "source": [
    "# Split data\n",
    "X_imu_train, X_imu_val, X_tof_train, X_tof_val, yb_train, yb_val, yg_train, yg_val = train_test_split(\n",
    "    X_imu, X_tof, y_binary, y_gesture, stratify=y_binary, test_size=0.2, random_state=42\n",
    ")\n",
    "\n",
    "# Train\n",
    "history = model.fit(\n",
    "    x={'imu_input': X_imu_train, 'tof_input': X_tof_train},\n",
    "    y={'binary_output': yb_train, 'gesture_output': yg_train},\n",
    "    validation_data=(\n",
    "        {'imu_input': X_imu_val, 'tof_input': X_tof_val},\n",
    "        {'binary_output': yb_val, 'gesture_output': yg_val}\n",
    "    ),\n",
    "    epochs=50,\n",
    "    batch_size=32\n",
    ")\n"
   ]
  },
  {
   "cell_type": "code",
   "execution_count": 12,
   "id": "484fd164-ce68-4e83-9fa3-d80ed5e37b46",
   "metadata": {},
   "outputs": [
    {
     "name": "stdout",
     "output_type": "stream",
     "text": [
      "\u001b[1m32/32\u001b[0m \u001b[32m━━━━━━━━━━━━━━━━━━━━\u001b[0m\u001b[37m\u001b[0m \u001b[1m7s\u001b[0m 110ms/step\n",
      "\u001b[1m32/32\u001b[0m \u001b[32m━━━━━━━━━━━━━━━━━━━━\u001b[0m\u001b[37m\u001b[0m \u001b[1m0s\u001b[0m 2ms/step\n",
      "✅ Binary Accuracy: 1.0\n",
      "✅ Binary F1 Score: 1.0\n",
      "🎯 Gesture Accuracy: 0.3626588465298143\n",
      "🎯 Gesture Macro F1 Score: 0.3499648957759224\n"
     ]
    }
   ],
   "source": [
    "# Predict\n",
    "binary_preds = model.predict({'imu_input': X_imu_val, 'tof_input': X_tof_val})[0]\n",
    "gesture_preds = model.predict({'imu_input': X_imu_val, 'tof_input': X_tof_val})[1]\n",
    "\n",
    "# Binary classification scores\n",
    "binary_preds_class = (binary_preds > 0.5).astype(int)\n",
    "print(\"✅ Binary Accuracy:\", accuracy_score(yb_val, binary_preds_class))\n",
    "print(\"✅ Binary F1 Score:\", f1_score(yb_val, binary_preds_class))\n",
    "\n",
    "# Multiclass scores\n",
    "gesture_preds_class = np.argmax(gesture_preds, axis=1)\n",
    "print(\"🎯 Gesture Accuracy:\", accuracy_score(yg_val, gesture_preds_class))\n",
    "print(\"🎯 Gesture Macro F1 Score:\", f1_score(yg_val, gesture_preds_class, average='macro'))\n"
   ]
  },
  {
   "cell_type": "code",
   "execution_count": null,
   "id": "df6e8b7c-a6ee-4c80-9ad7-de5f606391c7",
   "metadata": {},
   "outputs": [],
   "source": []
  }
 ],
 "metadata": {
  "kernelspec": {
   "display_name": "Python 3 (ipykernel)",
   "language": "python",
   "name": "python3"
  },
  "language_info": {
   "codemirror_mode": {
    "name": "ipython",
    "version": 3
   },
   "file_extension": ".py",
   "mimetype": "text/x-python",
   "name": "python",
   "nbconvert_exporter": "python",
   "pygments_lexer": "ipython3",
   "version": "3.10.18"
  }
 },
 "nbformat": 4,
 "nbformat_minor": 5
}
